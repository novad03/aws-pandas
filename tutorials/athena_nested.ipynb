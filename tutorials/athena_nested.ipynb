{
 "cells": [
  {
   "cell_type": "markdown",
   "metadata": {},
   "source": [
    "# Athena with nested data types\n",
    "\n",
    "[AWS Data Wrangler](https://github.com/awslabs/aws-data-wrangler) inherits some deep nested types limitations of [Apache Arrow](https://arrow.apache.org/). A good alternative to overcame it is counting on Athena's help to unnest this complex data types before load it in some Pandas Dataframe.\n",
    "\n",
    "This tutotial will expose some useful features for this purpose."
   ]
  },
  {
   "cell_type": "markdown",
   "metadata": {},
   "source": [
    "### Target Dataset:\n",
    "\n",
    "```sql\n",
    "WITH dataset AS (\n",
    "  SELECT ARRAY[\n",
    "    CAST(ROW('ARN1', 'ACCOUTID1', 'TYPE1') AS ROW(arn VARCHAR, accountid VARCHAR, type VARCHAR)),\n",
    "    CAST(ROW('ARN2', 'ACCOUTID2', 'TYPE2') AS ROW(arn VARCHAR, accountid VARCHAR, type VARCHAR)),\n",
    "    CAST(ROW('ARN3', 'ACCOUTID3', 'TYPE3') AS ROW(arn VARCHAR, accountid VARCHAR, type VARCHAR))\n",
    "  ] AS your_field\n",
    ")\n",
    "SELECT\n",
    "  *\n",
    "FROM dataset\n",
    "```"
   ]
  },
  {
   "cell_type": "code",
   "execution_count": 1,
   "metadata": {},
   "outputs": [],
   "source": [
    "import awswrangler as wr"
   ]
  },
  {
   "cell_type": "markdown",
   "metadata": {},
   "source": [
    "### Unnesting the inner struct"
   ]
  },
  {
   "cell_type": "code",
   "execution_count": 2,
   "metadata": {},
   "outputs": [
    {
     "data": {
      "text/html": [
       "<div>\n",
       "<style scoped>\n",
       "    .dataframe tbody tr th:only-of-type {\n",
       "        vertical-align: middle;\n",
       "    }\n",
       "\n",
       "    .dataframe tbody tr th {\n",
       "        vertical-align: top;\n",
       "    }\n",
       "\n",
       "    .dataframe thead th {\n",
       "        text-align: right;\n",
       "    }\n",
       "</style>\n",
       "<table border=\"1\" class=\"dataframe\">\n",
       "  <thead>\n",
       "    <tr style=\"text-align: right;\">\n",
       "      <th></th>\n",
       "      <th>arn</th>\n",
       "      <th>accountid</th>\n",
       "      <th>type</th>\n",
       "    </tr>\n",
       "  </thead>\n",
       "  <tbody>\n",
       "    <tr>\n",
       "      <th>0</th>\n",
       "      <td>[ARN1, ARN2, ARN3]</td>\n",
       "      <td>[ACCOUTID1, ACCOUTID2, ACCOUTID3]</td>\n",
       "      <td>[TYPE1, TYPE2, TYPE3]</td>\n",
       "    </tr>\n",
       "  </tbody>\n",
       "</table>\n",
       "</div>"
      ],
      "text/plain": [
       "                  arn                          accountid  \\\n",
       "0  [ARN1, ARN2, ARN3]  [ACCOUTID1, ACCOUTID2, ACCOUTID3]   \n",
       "\n",
       "                    type  \n",
       "0  [TYPE1, TYPE2, TYPE3]  "
      ]
     },
     "execution_count": 2,
     "metadata": {},
     "output_type": "execute_result"
    }
   ],
   "source": [
    "sql = \"\"\"\n",
    "WITH dataset AS (\n",
    "  SELECT ARRAY[\n",
    "    CAST(ROW('ARN1', 'ACCOUTID1', 'TYPE1') AS ROW(arn VARCHAR, accountid VARCHAR, type VARCHAR)),\n",
    "    CAST(ROW('ARN2', 'ACCOUTID2', 'TYPE2') AS ROW(arn VARCHAR, accountid VARCHAR, type VARCHAR)),\n",
    "    CAST(ROW('ARN3', 'ACCOUTID3', 'TYPE3') AS ROW(arn VARCHAR, accountid VARCHAR, type VARCHAR))\n",
    "  ] AS your_field\n",
    ")\n",
    "SELECT\n",
    "  transform(your_field, x -> x.arn) AS arn,\n",
    "  transform(your_field, x -> x.accountid) AS accountid,\n",
    "  transform(your_field, x -> x.type) AS type\n",
    "FROM dataset\n",
    "\"\"\"\n",
    "\n",
    "df = wr.pandas.read_sql_athena(sql)\n",
    "df.head()"
   ]
  },
  {
   "cell_type": "code",
   "execution_count": 3,
   "metadata": {},
   "outputs": [
    {
     "data": {
      "text/plain": [
       "'ARN1'"
      ]
     },
     "execution_count": 3,
     "metadata": {},
     "output_type": "execute_result"
    }
   ],
   "source": [
    "df.iloc[0].arn[0]"
   ]
  },
  {
   "cell_type": "markdown",
   "metadata": {},
   "source": [
    "### Unnesting the outer array (Only with CTAS approach)"
   ]
  },
  {
   "cell_type": "code",
   "execution_count": 4,
   "metadata": {},
   "outputs": [
    {
     "data": {
      "text/html": [
       "<div>\n",
       "<style scoped>\n",
       "    .dataframe tbody tr th:only-of-type {\n",
       "        vertical-align: middle;\n",
       "    }\n",
       "\n",
       "    .dataframe tbody tr th {\n",
       "        vertical-align: top;\n",
       "    }\n",
       "\n",
       "    .dataframe thead th {\n",
       "        text-align: right;\n",
       "    }\n",
       "</style>\n",
       "<table border=\"1\" class=\"dataframe\">\n",
       "  <thead>\n",
       "    <tr style=\"text-align: right;\">\n",
       "      <th></th>\n",
       "      <th>your_field</th>\n",
       "    </tr>\n",
       "  </thead>\n",
       "  <tbody>\n",
       "    <tr>\n",
       "      <th>0</th>\n",
       "      <td>{'arn': 'ARN1', 'accountid': 'ACCOUTID1', 'typ...</td>\n",
       "    </tr>\n",
       "    <tr>\n",
       "      <th>1</th>\n",
       "      <td>{'arn': 'ARN2', 'accountid': 'ACCOUTID2', 'typ...</td>\n",
       "    </tr>\n",
       "    <tr>\n",
       "      <th>2</th>\n",
       "      <td>{'arn': 'ARN3', 'accountid': 'ACCOUTID3', 'typ...</td>\n",
       "    </tr>\n",
       "  </tbody>\n",
       "</table>\n",
       "</div>"
      ],
      "text/plain": [
       "                                          your_field\n",
       "0  {'arn': 'ARN1', 'accountid': 'ACCOUTID1', 'typ...\n",
       "1  {'arn': 'ARN2', 'accountid': 'ACCOUTID2', 'typ...\n",
       "2  {'arn': 'ARN3', 'accountid': 'ACCOUTID3', 'typ..."
      ]
     },
     "execution_count": 4,
     "metadata": {},
     "output_type": "execute_result"
    }
   ],
   "source": [
    "sql = \"\"\"\n",
    "WITH dataset AS (\n",
    "  SELECT ARRAY[\n",
    "    CAST(ROW('ARN1', 'ACCOUTID1', 'TYPE1') AS ROW(arn VARCHAR, accountid VARCHAR, type VARCHAR)),\n",
    "    CAST(ROW('ARN2', 'ACCOUTID2', 'TYPE2') AS ROW(arn VARCHAR, accountid VARCHAR, type VARCHAR)),\n",
    "    CAST(ROW('ARN3', 'ACCOUTID3', 'TYPE3') AS ROW(arn VARCHAR, accountid VARCHAR, type VARCHAR))\n",
    "  ] AS your_field\n",
    ")\n",
    "SELECT t.your_field\n",
    "FROM dataset, UNNEST(your_field) as t(your_field)\n",
    "\"\"\"\n",
    "\n",
    "df = wr.pandas.read_sql_athena(sql, ctas_approach=True)\n",
    "df.head()"
   ]
  },
  {
   "cell_type": "code",
   "execution_count": 5,
   "metadata": {},
   "outputs": [
    {
     "data": {
      "text/plain": [
       "'ARN1'"
      ]
     },
     "execution_count": 5,
     "metadata": {},
     "output_type": "execute_result"
    }
   ],
   "source": [
    "df.iloc[0].your_field[\"arn\"]"
   ]
  },
  {
   "cell_type": "markdown",
   "metadata": {},
   "source": [
    "### Unnesting the outer array and the inner struct (Fully unnested)"
   ]
  },
  {
   "cell_type": "code",
   "execution_count": 6,
   "metadata": {},
   "outputs": [
    {
     "data": {
      "text/html": [
       "<div>\n",
       "<style scoped>\n",
       "    .dataframe tbody tr th:only-of-type {\n",
       "        vertical-align: middle;\n",
       "    }\n",
       "\n",
       "    .dataframe tbody tr th {\n",
       "        vertical-align: top;\n",
       "    }\n",
       "\n",
       "    .dataframe thead th {\n",
       "        text-align: right;\n",
       "    }\n",
       "</style>\n",
       "<table border=\"1\" class=\"dataframe\">\n",
       "  <thead>\n",
       "    <tr style=\"text-align: right;\">\n",
       "      <th></th>\n",
       "      <th>arn</th>\n",
       "      <th>accountid</th>\n",
       "      <th>type</th>\n",
       "    </tr>\n",
       "  </thead>\n",
       "  <tbody>\n",
       "    <tr>\n",
       "      <th>0</th>\n",
       "      <td>ARN1</td>\n",
       "      <td>ACCOUTID1</td>\n",
       "      <td>TYPE1</td>\n",
       "    </tr>\n",
       "    <tr>\n",
       "      <th>1</th>\n",
       "      <td>ARN2</td>\n",
       "      <td>ACCOUTID2</td>\n",
       "      <td>TYPE2</td>\n",
       "    </tr>\n",
       "    <tr>\n",
       "      <th>2</th>\n",
       "      <td>ARN3</td>\n",
       "      <td>ACCOUTID3</td>\n",
       "      <td>TYPE3</td>\n",
       "    </tr>\n",
       "  </tbody>\n",
       "</table>\n",
       "</div>"
      ],
      "text/plain": [
       "    arn  accountid   type\n",
       "0  ARN1  ACCOUTID1  TYPE1\n",
       "1  ARN2  ACCOUTID2  TYPE2\n",
       "2  ARN3  ACCOUTID3  TYPE3"
      ]
     },
     "execution_count": 6,
     "metadata": {},
     "output_type": "execute_result"
    }
   ],
   "source": [
    "sql = \"\"\"\n",
    "WITH dataset AS (\n",
    "  SELECT ARRAY[\n",
    "    CAST(ROW('ARN1', 'ACCOUTID1', 'TYPE1') AS ROW(arn VARCHAR, accountid VARCHAR, type VARCHAR)),\n",
    "    CAST(ROW('ARN2', 'ACCOUTID2', 'TYPE2') AS ROW(arn VARCHAR, accountid VARCHAR, type VARCHAR)),\n",
    "    CAST(ROW('ARN3', 'ACCOUTID3', 'TYPE3') AS ROW(arn VARCHAR, accountid VARCHAR, type VARCHAR))\n",
    "  ] AS your_field\n",
    ")\n",
    "SELECT\n",
    "  t.your_field.arn,\n",
    "  t.your_field.accountid,\n",
    "  t.your_field.type\n",
    "FROM dataset, UNNEST(your_field) as t(your_field)\n",
    "\"\"\"\n",
    "\n",
    "df = wr.pandas.read_sql_athena(sql)\n",
    "df.head()"
   ]
  },
  {
   "cell_type": "code",
   "execution_count": 7,
   "metadata": {},
   "outputs": [
    {
     "data": {
      "text/plain": [
       "'ARN1'"
      ]
     },
     "execution_count": 7,
     "metadata": {},
     "output_type": "execute_result"
    }
   ],
   "source": [
    "df.iloc[0].arn"
   ]
  }
 ],
 "metadata": {
  "kernelspec": {
   "display_name": "Python 3",
   "language": "python",
   "name": "python3"
  },
  "language_info": {
   "codemirror_mode": {
    "name": "ipython",
    "version": 3
   },
   "file_extension": ".py",
   "mimetype": "text/x-python",
   "name": "python",
   "nbconvert_exporter": "python",
   "pygments_lexer": "ipython3",
   "version": "3.7.4"
  }
 },
 "nbformat": 4,
 "nbformat_minor": 4
}
