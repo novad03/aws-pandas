{
 "cells": [
  {
   "cell_type": "markdown",
   "metadata": {},
   "source": [
    "[![AWS Data Wrangler](_static/logo.png \"AWS Data Wrangler\")](https://github.com/awslabs/aws-data-wrangler)"
   ]
  },
  {
   "cell_type": "markdown",
   "metadata": {},
   "source": [
    "# PyTorch"
   ]
  },
  {
   "cell_type": "markdown",
   "metadata": {},
   "source": [
    "## Table of Contents\n",
    "* [1.Defining Training Function](#1.-Defining-Training-Function)\n",
    "* [2.Training From Amazon S3](#2.-Traoning-From-Amazon-S3)\n",
    "\t* [2.1 Writing PyTorch Dataset to S3](#2.1-Writing-PyTorch-Dataset-to-S3)\n",
    "\t* [2.2 Training Network](#2.2-Training-Network)\n",
    "* [3. Training From SQL Query](#3.-Training-From-SQL-Query)\n",
    "\t* [3.1 Writing Data to SQL Database](#3.1-Writing-Data-to-SQL-Database)\n",
    "\t* [3.3 Training Network From SQL](#3.3-Reading-single-JSON-file)\n",
    "* [4. Creating Custom S3 Dataset](#4.-Creating-Custom-S3-Dataset)\n",
    "\t* [4.1 Creating Custom PyTorch Dataset](#4.1-Creating-Custom-PyTorch-Dataset)\n",
    "\t* [4.2 Writing Data to S3](#4.2-Writing-Data-to-S3)\n",
    "\t* [4.3 Training Network](#4.4-Training-Network)\n",
    "* [5. Delete objects](#5.-Delete-objects)"
   ]
  },
  {
   "cell_type": "code",
   "execution_count": 1,
   "metadata": {
    "pycharm": {
     "name": "#%%\n"
    }
   },
   "outputs": [],
   "source": [
    "import io\n",
    "\n",
    "import boto3\n",
    "import torch\n",
    "import torchvision\n",
    "import pandas as pd\n",
    "import awswrangler as wr\n",
    "\n",
    "from torch.optim import SGD\n",
    "from torch.nn import CrossEntropyLoss\n",
    "from torch.utils.data import DataLoader"
   ]
  },
  {
   "cell_type": "code",
   "execution_count": 2,
   "metadata": {
    "pycharm": {
     "name": "#%%\n"
    }
   },
   "outputs": [
    {
     "name": "stdout",
     "output_type": "stream",
     "text": [
      "········\n"
     ]
    }
   ],
   "source": [
    "import getpass\n",
    "bucket = getpass.getpass()"
   ]
  },
  {
   "cell_type": "markdown",
   "metadata": {},
   "source": [
    "# 1. Defining Training Function"
   ]
  },
  {
   "cell_type": "code",
   "execution_count": 3,
   "metadata": {},
   "outputs": [],
   "source": [
    "def train(model, dataset, batch_size=64, epochs=2, device='cpu', num_workers=1):\n",
    "\n",
    "    criterion = CrossEntropyLoss().to(device)\n",
    "    opt = SGD(model.parameters(), 0.025)\n",
    "    loader = DataLoader(dataset, batch_size=batch_size, num_workers=num_workers)\n",
    "\n",
    "    for epoch in range(epochs):\n",
    "\n",
    "        correct = 0    \n",
    "        model.train()\n",
    "        for i, (inputs, labels) in enumerate(loader):\n",
    "\n",
    "            # Forward Pass\n",
    "            outputs = model(inputs)\n",
    "            \n",
    "            # Backward Pass\n",
    "            loss = criterion(outputs, labels)\n",
    "            loss.backward()\n",
    "            opt.step()\n",
    "            opt.zero_grad()\n",
    "            \n",
    "            # Accuracy\n",
    "            _, predicted = torch.max(outputs.data, 1)\n",
    "            correct += (predicted == labels).sum().item()\n",
    "            accuracy = 100 * correct / ((i+1) * batch_size)\n",
    "\n",
    "            print(f'batch: {i} loss: {loss.mean().item():.4f} acc: {accuracy:.2f}')   "
   ]
  },
  {
   "cell_type": "markdown",
   "metadata": {},
   "source": [
    "# 2. Training From Amazon S3"
   ]
  },
  {
   "cell_type": "markdown",
   "metadata": {},
   "source": [
    "## 2.1 Writing PyTorch Dataset to S3"
   ]
  },
  {
   "cell_type": "code",
   "execution_count": 4,
   "metadata": {
    "pycharm": {
     "name": "#%%\n"
    }
   },
   "outputs": [],
   "source": [
    "client_s3 = boto3.client(\"s3\")\n",
    "folder = \"tutorial_torch_dataset\"\n",
    "\n",
    "wr.s3.delete_objects(f\"s3://{bucket}/{folder}\")\n",
    "for i in range(3):\n",
    "    batch = (\n",
    "        torch.randn(100, 3, 32, 32),\n",
    "        torch.randint(2, size=(100,)),\n",
    "    )\n",
    "    buff = io.BytesIO()\n",
    "    torch.save(batch, buff)\n",
    "    buff.seek(0)\n",
    "    client_s3.put_object(\n",
    "        Body=buff.read(),\n",
    "        Bucket=bucket,\n",
    "        Key=f\"{folder}/file{i}.pt\",\n",
    "    )"
   ]
  },
  {
   "cell_type": "markdown",
   "metadata": {},
   "source": [
    "## 2.2 Training Network"
   ]
  },
  {
   "cell_type": "code",
   "execution_count": 6,
   "metadata": {},
   "outputs": [
    {
     "name": "stdout",
     "output_type": "stream",
     "text": [
      "batch: 0 loss: 7.0132 acc: 0.00\n",
      "batch: 1 loss: 2.8764 acc: 21.09\n",
      "batch: 2 loss: 0.9600 acc: 32.29\n",
      "batch: 3 loss: 0.8676 acc: 36.33\n",
      "batch: 4 loss: 1.1386 acc: 36.88\n",
      "batch: 0 loss: 1.0754 acc: 51.56\n",
      "batch: 1 loss: 1.4241 acc: 51.56\n",
      "batch: 2 loss: 1.3019 acc: 51.04\n",
      "batch: 3 loss: 0.8631 acc: 53.52\n",
      "batch: 4 loss: 0.4252 acc: 54.38\n"
     ]
    }
   ],
   "source": [
    "train(\n",
    "    torchvision.models.resnet18(),\n",
    "    wr.torch.S3IterableDataset(path=f\"{bucket}/{folder}\")\n",
    ")"
   ]
  },
  {
   "cell_type": "markdown",
   "metadata": {},
   "source": [
    "# 2. Training Directly From SQL Query"
   ]
  },
  {
   "cell_type": "markdown",
   "metadata": {},
   "source": [
    "## 2.1 Writing Data to SQL Database"
   ]
  },
  {
   "cell_type": "code",
   "execution_count": 7,
   "metadata": {},
   "outputs": [],
   "source": [
    "eng = wr.catalog.get_engine(\"aws-data-wrangler-redshift\")\n",
    "df = pd.DataFrame({\n",
    "    \"height\": [2, 1.4, 1.7, 1.8, 1.9, 2.2],\n",
    "    \"weight\": [100.0, 50.0, 70.0, 80.0, 90.0, 160.0],\n",
    "    \"target\": [1, 0, 0, 1, 1, 1]\n",
    "})\n",
    "\n",
    "wr.db.to_sql(\n",
    "    df,\n",
    "    eng,\n",
    "    schema=\"public\",\n",
    "    name=\"torch\",\n",
    "    if_exists=\"replace\",\n",
    "    index=False\n",
    ")"
   ]
  },
  {
   "cell_type": "markdown",
   "metadata": {},
   "source": [
    "## 2.2 Training Network From SQL"
   ]
  },
  {
   "cell_type": "code",
   "execution_count": 8,
   "metadata": {},
   "outputs": [
    {
     "name": "stdout",
     "output_type": "stream",
     "text": [
      "batch: 0 loss: 8.8708 acc: 50.00\n",
      "batch: 1 loss: 88.7789 acc: 50.00\n",
      "batch: 2 loss: 0.8655 acc: 33.33\n",
      "batch: 0 loss: 0.7036 acc: 50.00\n",
      "batch: 1 loss: 0.7034 acc: 50.00\n",
      "batch: 2 loss: 0.8447 acc: 33.33\n",
      "batch: 0 loss: 0.7012 acc: 50.00\n",
      "batch: 1 loss: 0.7010 acc: 50.00\n",
      "batch: 2 loss: 0.8250 acc: 33.33\n",
      "batch: 0 loss: 0.6992 acc: 50.00\n",
      "batch: 1 loss: 0.6991 acc: 50.00\n",
      "batch: 2 loss: 0.8063 acc: 33.33\n",
      "batch: 0 loss: 0.6975 acc: 50.00\n",
      "batch: 1 loss: 0.6974 acc: 50.00\n",
      "batch: 2 loss: 0.7886 acc: 33.33\n"
     ]
    }
   ],
   "source": [
    "train(\n",
    "    torch.nn.Sequential(\n",
    "        torch.nn.Linear(2, 10),\n",
    "        torch.nn.ReLU(),\n",
    "        torch.nn.Linear(10, 2),    \n",
    "    ),\n",
    "    wr.torch.SQLDataset(\n",
    "        sql=\"SELECT * FROM public.torch\",\n",
    "        con=eng,\n",
    "        label_col=\"target\",\n",
    "        chunksize=2\n",
    "    ),\n",
    "    num_workers=0,\n",
    "    batch_size=2,\n",
    "    epochs=5\n",
    ")"
   ]
  },
  {
   "cell_type": "markdown",
   "metadata": {},
   "source": [
    "# 3. Delete Objects"
   ]
  },
  {
   "cell_type": "code",
   "execution_count": 9,
   "metadata": {},
   "outputs": [],
   "source": [
    "wr.s3.delete_objects(f\"s3://{bucket}/{folder}\")"
   ]
  }
 ],
 "metadata": {
  "kernelspec": {
   "display_name": "Python 3",
   "language": "python",
   "name": "python3"
  },
  "language_info": {
   "codemirror_mode": {
    "name": "ipython",
    "version": 3
   },
   "file_extension": ".py",
   "mimetype": "text/x-python",
   "name": "python",
   "nbconvert_exporter": "python",
   "pygments_lexer": "ipython3",
   "version": "3.7.5"
  }
 },
 "nbformat": 4,
 "nbformat_minor": 4
}