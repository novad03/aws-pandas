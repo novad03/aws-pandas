{
 "cells": [
  {
   "cell_type": "markdown",
   "metadata": {},
   "source": [
    "[![AWS Data Wrangler](_static/logo.png \"AWS Data Wrangler\")](https://github.com/awslabs/aws-data-wrangler)"
   ]
  },
  {
   "cell_type": "markdown",
   "metadata": {},
   "source": [
    "# PyTorch"
   ]
  },
  {
   "cell_type": "markdown",
   "metadata": {},
   "source": [
    "## Table of Contents\n",
    "* [1.Defining Training Function](#1.-Defininf-Training-Function)\n",
    "* [2.Traning From Amazon S3](#1.-Traning-From-Amazon-S3)\n",
    "\t* [2.1 Writing PyTorch Dataset to S3](#1.1-Writing-PyTorch-Dataset-to-S3)\n",
    "\t* [2.2 Training Network](#1.2-Training-Network)\n",
    "* [3. Training From SQL Query](#2.-Training-From-SQL-Query)\n",
    "\t* [3.1 Writing Data to SQL Database](#2.1-Writing-Data-to-SQL-Database)\n",
    "\t* [3.3 Training Network From SQL](#2.2-Reading-single-JSON-file)\n",
    "* [4. Creating Custom S3 Dataset](#1.-Creating-Custom-S3-Dataset)\n",
    "\t* [4.1 Creating Custom PyTorch Dataset](#1.1-Creating-Custom-PyTorch-Dataset)\n",
    "\t* [4.2 Writing Data to S3](#1.1-Writing-Data-to-S3)\n",
    "\t* [4.3 Training Network](#1.2-Training-Network)\n",
    "* [5. Delete objects](#6.-Delete-objects)"
   ]
  },
  {
   "cell_type": "code",
   "execution_count": null,
   "metadata": {},
   "outputs": [],
   "source": [
    "import io\n",
    "import boto3\n",
    "import torch\n",
    "import torchvision\n",
    "import awswrangler as wr\n",
    "\n",
    "accuracy = lambda o, l: 100/o.size(0) * (torch.max(o.data, 1)[1] == l).sum().item()"
   ]
  },
  {
   "cell_type": "code",
   "execution_count": null,
   "metadata": {},
   "outputs": [],
   "source": [
    "import getpass\n",
    "bucket = getpass.getpass()"
   ]
  },
  {
   "cell_type": "markdown",
   "metadata": {},
   "source": [
    "# 1. Defining Training Function"
   ]
  },
  {
   "cell_type": "code",
   "execution_count": null,
   "metadata": {},
   "outputs": [],
   "source": [
    "def train(model, dataset):\n",
    "    criterion = torch.nn.CrossEntropyLoss()\n",
    "    opt = torch.optim.SGD(model.parameters(), 0.025)\n",
    "\n",
    "    for epoch in range(2):\n",
    "\n",
    "        model.train()\n",
    "        for inputs, labels in torch.utils.data.DataLoader(\n",
    "            dataset,\n",
    "            batch_size=64,\n",
    "            num_workers=2,\n",
    "        ):\n",
    "\n",
    "            outputs = model(inputs)\n",
    "            loss = criterion(outputs, labels)\n",
    "            loss.backward()\n",
    "            opt.step()s\n",
    "            opt.zero_grad()\n",
    "\n",
    "            acc = accuracy(outputs, labels)\n",
    "            print(f'batch: {i} loss: {loss.mean().item():.4f} batch_acc: {acc:.2f}')   "
   ]
  },
  {
   "cell_type": "markdown",
   "metadata": {},
   "source": [
    "# 2. Traning From Amazon S3"
   ]
  },
  {
   "cell_type": "code",
   "execution_count": null,
   "metadata": {},
   "outputs": [],
   "source": [
    "client_s3 = boto3.client(\"s3\")\n",
    "folder = \"tutorial_torch_dataset\"\n",
    "for i in range(3):\n",
    "    batch = (\n",
    "        torch.randn(100, 3, 32, 32),\n",
    "        torch.randint(1, size=(100,)),\n",
    "    )\n",
    "    buff = io.BytesIO()\n",
    "    torch.save(batch, buff)\n",
    "    buff.seek(0)\n",
    "    client_s3.put_object(\n",
    "        Body=buff.read(),\n",
    "        Bucket=bucket,\n",
    "        Key=f\"{folder}/file{i}.pt\",\n",
    "    )"
   ]
  },
  {
   "cell_type": "markdown",
   "metadata": {},
   "source": [
    "## 2.2 Training Network"
   ]
  },
  {
   "cell_type": "code",
   "execution_count": null,
   "metadata": {},
   "outputs": [],
   "source": [
    "train(\n",
    "    torchvision.models.resnet18(),\n",
    "    wr.torch.S3IterableDataset(path=f\"s3://{bucket}/{folder}\"),\n",
    ")"
   ]
  },
  {
   "cell_type": "markdown",
   "metadata": {},
   "source": [
    "# 2. Training Directly From SQL Query"
   ]
  },
  {
   "cell_type": "markdown",
   "metadata": {},
   "source": [
    "## 2.1 Writing Data to SQL Database"
   ]
  },
  {
   "cell_type": "code",
   "execution_count": null,
   "metadata": {},
   "outputs": [],
   "source": [
    "eng = wr.catalog.get_engine(\"aws-data-wrangler-redshift\")\n",
    "df = pd.DataFrame({\n",
    "    \"height\": [2, 1.4, 1.7, 1.8, 1.9],\n",
    "    \"name\": [\"foo\", \"boo\"],\n",
    "    \"target\": [1, 0, 0, 1, 2, 3]\n",
    "})\n",
    "\n",
    "wr.db.to_sql(\n",
    "    df,\n",
    "    eng_redshift,\n",
    "    schema=\"public\",\n",
    "    name=\"torch\",\n",
    "    if_exists=\"replace\",\n",
    "    index=False\n",
    ")"
   ]
  },
  {
   "cell_type": "markdown",
   "metadata": {},
   "source": [
    "## 2.2 Training Network From SQL"
   ]
  },
  {
   "cell_type": "code",
   "execution_count": null,
   "metadata": {},
   "outputs": [],
   "source": [
    "train(\n",
    "    model = torch.nn.Sequential(\n",
    "        torch.nn.Linear(, 20),\n",
    "        torch.nn.ReLU(),\n",
    "        torch.nn.Linear(20, 2),    \n",
    "    ),\n",
    "    wr.torch.SQLDataset(\n",
    "        sql=\"SELECT * FROM public.torch\"\n",
    "        con=eng\n",
    "        label_col=\"target\",\n",
    "        chunksize=100\n",
    "    )\n",
    ")"
   ]
  },
  {
   "cell_type": "markdown",
   "metadata": {},
   "source": [
    "# 3. Delete Objects"
   ]
  },
  {
   "cell_type": "code",
   "execution_count": null,
   "metadata": {},
   "outputs": [],
   "source": [
    "wr.s3.delete_objects(f\"s3://{bucket}/\")"
   ]
  }
 ],
 "metadata": {
  "kernelspec": {
   "display_name": "conda_pytorch_p36",
   "language": "python",
   "name": "conda_pytorch_p36"
  },
  "language_info": {
   "codemirror_mode": {
    "name": "ipython",
    "version": 3
   },
   "file_extension": ".py",
   "mimetype": "text/x-python",
   "name": "python",
   "nbconvert_exporter": "python",
   "pygments_lexer": "ipython3",
   "version": "3.6.5"
  }
 },
 "nbformat": 4,
 "nbformat_minor": 4
}
